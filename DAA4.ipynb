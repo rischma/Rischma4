{
  "nbformat": 4,
  "nbformat_minor": 0,
  "metadata": {
    "colab": {
      "name": "DAA4.ipynb",
      "provenance": [],
      "collapsed_sections": []
    },
    "kernelspec": {
      "name": "python3",
      "display_name": "Python 3"
    },
    "language_info": {
      "name": "python"
    }
  },
  "cells": [
    {
      "cell_type": "code",
      "metadata": {
        "colab": {
          "base_uri": "https://localhost:8080/"
        },
        "id": "BiJN5VSMB4r_",
        "outputId": "acdf8bfb-7946-4919-ea22-2b76b78985e0"
      },
      "source": [
        "#swap function\n",
        "var1 = 1\n",
        "var2 = 2\n",
        "var1,var2 = var2, var1\n",
        "print(var1, var2)"
      ],
      "execution_count": 1,
      "outputs": [
        {
          "output_type": "stream",
          "name": "stdout",
          "text": [
            "2 1\n"
          ]
        }
      ]
    },
    {
      "cell_type": "code",
      "metadata": {
        "colab": {
          "base_uri": "https://localhost:8080/"
        },
        "id": "XacEBSCwCFBQ",
        "outputId": "cba602bf-8f58-4e7e-f45c-50c388f97645"
      },
      "source": [
        "var1 = 1\n",
        "var2 = 2\n",
        "var3 = 3\n",
        "var1,var2,var3 = var3, var2, var1\n",
        "print(var1, var2, var3)"
      ],
      "execution_count": 2,
      "outputs": [
        {
          "output_type": "stream",
          "name": "stdout",
          "text": [
            "3 2 1\n"
          ]
        }
      ]
    },
    {
      "cell_type": "code",
      "metadata": {
        "colab": {
          "base_uri": "https://localhost:8080/"
        },
        "id": "npb-VKwOCIUy",
        "outputId": "f4fe4c8b-ac23-4cd2-84b4-7f65b7e47391"
      },
      "source": [
        "list = [25,21,22,24,23,27,26]\n",
        "lastElementIndex = len(list)-1\n",
        "print(0,list)\n",
        "for idx in range(lastElementIndex):\n",
        "  if list [idx]>list[idx+1]:\n",
        "    list[idx],list[idx+1]=list[idx+1],list[idx]\n",
        "    print(idx+1,list)"
      ],
      "execution_count": 3,
      "outputs": [
        {
          "output_type": "stream",
          "name": "stdout",
          "text": [
            "0 [25, 21, 22, 24, 23, 27, 26]\n",
            "1 [21, 25, 22, 24, 23, 27, 26]\n",
            "2 [21, 22, 25, 24, 23, 27, 26]\n",
            "3 [21, 22, 24, 25, 23, 27, 26]\n",
            "4 [21, 22, 24, 23, 25, 27, 26]\n",
            "6 [21, 22, 24, 23, 25, 26, 27]\n"
          ]
        }
      ]
    },
    {
      "cell_type": "code",
      "metadata": {
        "id": "gkQV5o-nCLIL"
      },
      "source": [
        "def BubbleSort(list):\n",
        "#exchange the element to arrange in order\n",
        "    lastElementIndex = len(list)-1\n",
        "    for passNo in range(lastElementIndex,0,-1):\n",
        "      for idx in range(passNo):\n",
        "        if list[idx]>list[idx+1]:\n",
        "          list[idx],list[idx+1]=list[idx+1],list[idx]\n",
        "    return list"
      ],
      "execution_count": 4,
      "outputs": []
    },
    {
      "cell_type": "code",
      "metadata": {
        "id": "tWUBfnY1CPiT"
      },
      "source": [
        "#masukan angka dengan urutan lainnya\n",
        "\n",
        "list = [25,21,22,24,23,27,26]"
      ],
      "execution_count": 5,
      "outputs": []
    },
    {
      "cell_type": "code",
      "metadata": {
        "colab": {
          "base_uri": "https://localhost:8080/"
        },
        "id": "pPVzCFFcCR_9",
        "outputId": "8ffbcffe-d0e1-42ab-cd71-0c9d30a5c159"
      },
      "source": [
        "BubbleSort (list)"
      ],
      "execution_count": 6,
      "outputs": [
        {
          "output_type": "execute_result",
          "data": {
            "text/plain": [
              "[21, 22, 23, 24, 25, 26, 27]"
            ]
          },
          "metadata": {},
          "execution_count": 6
        }
      ]
    },
    {
      "cell_type": "code",
      "metadata": {
        "colab": {
          "base_uri": "https://localhost:8080/"
        },
        "id": "XPJaHdI5Caow",
        "outputId": "d030a5fa-b55f-48c1-8342-6c71f10b2c6c"
      },
      "source": [
        "list"
      ],
      "execution_count": 7,
      "outputs": [
        {
          "output_type": "execute_result",
          "data": {
            "text/plain": [
              "[21, 22, 23, 24, 25, 26, 27]"
            ]
          },
          "metadata": {},
          "execution_count": 7
        }
      ]
    },
    {
      "cell_type": "code",
      "metadata": {
        "colab": {
          "base_uri": "https://localhost:8080/"
        },
        "id": "1hZJo5h4CfuU",
        "outputId": "e087fd87-50bc-40b1-9c90-2c7919738a2d"
      },
      "source": [
        "list = [100,20,60,90,40,30,10]\n",
        "BubbleSort (list)"
      ],
      "execution_count": 8,
      "outputs": [
        {
          "output_type": "execute_result",
          "data": {
            "text/plain": [
              "[10, 20, 30, 40, 60, 90, 100]"
            ]
          },
          "metadata": {},
          "execution_count": 8
        }
      ]
    },
    {
      "cell_type": "code",
      "metadata": {
        "id": "tNv6JLZnCh_r"
      },
      "source": [
        "def InsertionSort(list):\n",
        "    for i in range(1, len(list)):\n",
        "        j = i-1\n",
        "        next = list[i]\n",
        "#compare the current element with next one\n",
        "\n",
        "        while (list[j] > next) and (j >= 0):\n",
        "            list[j+1] = list[j]\n",
        "            j=j-1\n",
        "        list[j+1] = next\n",
        "    return list"
      ],
      "execution_count": 9,
      "outputs": []
    },
    {
      "cell_type": "code",
      "metadata": {
        "id": "T6_Ho9oVEBwz"
      },
      "source": [
        "#masukan angka dengan urutan lainnya\n",
        "\n",
        "list = [35, 31, 32, 34, 33, 37, 36]"
      ],
      "execution_count": 15,
      "outputs": []
    },
    {
      "cell_type": "code",
      "metadata": {
        "colab": {
          "base_uri": "https://localhost:8080/"
        },
        "id": "IrR_LAlSCnaO",
        "outputId": "73d16bb2-a0f0-43a4-da3a-164bc9cd31c3"
      },
      "source": [
        "list"
      ],
      "execution_count": 11,
      "outputs": [
        {
          "output_type": "execute_result",
          "data": {
            "text/plain": [
              "[10, 20, 30, 40, 60, 90, 100]"
            ]
          },
          "metadata": {},
          "execution_count": 11
        }
      ]
    },
    {
      "cell_type": "code",
      "metadata": {
        "colab": {
          "base_uri": "https://localhost:8080/"
        },
        "id": "YzS2bPi5CqaQ",
        "outputId": "a63f31da-74ff-49ec-cac6-43c91115f86e"
      },
      "source": [
        "InsertionSort(list)"
      ],
      "execution_count": 12,
      "outputs": [
        {
          "output_type": "execute_result",
          "data": {
            "text/plain": [
              "[10, 20, 30, 40, 60, 90, 100]"
            ]
          },
          "metadata": {},
          "execution_count": 12
        }
      ]
    },
    {
      "cell_type": "code",
      "metadata": {
        "id": "q5wmqqTPCs6g"
      },
      "source": [
        "list = [25,26,22,24,27,23,21]"
      ],
      "execution_count": 16,
      "outputs": []
    },
    {
      "cell_type": "code",
      "metadata": {
        "colab": {
          "base_uri": "https://localhost:8080/"
        },
        "id": "v3jDJW0iCvIj",
        "outputId": "15a397da-eb31-4f77-aa9f-6532c580f5d6"
      },
      "source": [
        "InsertionSort(list)\n",
        "print(list)"
      ],
      "execution_count": 17,
      "outputs": [
        {
          "output_type": "stream",
          "name": "stdout",
          "text": [
            "[21, 22, 23, 24, 25, 26, 27]\n"
          ]
        }
      ]
    },
    {
      "cell_type": "code",
      "metadata": {
        "colab": {
          "base_uri": "https://localhost:8080/"
        },
        "id": "Zj3busveCxPh",
        "outputId": "658b28d6-b226-4cc1-a2d4-733d83331075"
      },
      "source": [
        "#Latihan\n",
        "list = [89,12,57,16,25,11,75]\n",
        "InsertionSort(list)"
      ],
      "execution_count": 18,
      "outputs": [
        {
          "output_type": "execute_result",
          "data": {
            "text/plain": [
              "[11, 12, 16, 25, 57, 75, 89]"
            ]
          },
          "metadata": {},
          "execution_count": 18
        }
      ]
    },
    {
      "cell_type": "code",
      "metadata": {
        "id": "VlMuqv-DC5v0"
      },
      "source": [
        "def SelectionSort(lis):\n",
        "    for fill_slot in range(len(list) - 1, 0, -1):\n",
        "        max_index = 0\n",
        "        for location in range(1, fill_slot + 1):\n",
        "            if list[location] > list[max_index]:\n",
        "                max_index = location\n",
        "        list[fill_slot],list[max_index] = list[max_index],list[fill_slot]\n",
        "    return list"
      ],
      "execution_count": 19,
      "outputs": []
    },
    {
      "cell_type": "code",
      "metadata": {
        "colab": {
          "base_uri": "https://localhost:8080/"
        },
        "id": "u-Wd9cPkC8L7",
        "outputId": "27900ebc-72f4-417b-eac3-1f20e5755830"
      },
      "source": [
        "list = [70,15,25,19,34,44]\n",
        "SelectionSort(list)"
      ],
      "execution_count": 20,
      "outputs": [
        {
          "output_type": "execute_result",
          "data": {
            "text/plain": [
              "[15, 19, 25, 34, 44, 70]"
            ]
          },
          "metadata": {},
          "execution_count": 20
        }
      ]
    },
    {
      "cell_type": "code",
      "metadata": {
        "colab": {
          "base_uri": "https://localhost:8080/"
        },
        "id": "Gk3DPmqIC-e7",
        "outputId": "c82b9431-f491-469c-a139-095ae0d5ab7d"
      },
      "source": [
        "list"
      ],
      "execution_count": 21,
      "outputs": [
        {
          "output_type": "execute_result",
          "data": {
            "text/plain": [
              "[15, 19, 25, 34, 44, 70]"
            ]
          },
          "metadata": {},
          "execution_count": 21
        }
      ]
    },
    {
      "cell_type": "code",
      "metadata": {
        "colab": {
          "base_uri": "https://localhost:8080/"
        },
        "id": "Is_iB3mRDA1k",
        "outputId": "968bc855-edab-435d-8188-354ed98c82a0"
      },
      "source": [
        "#Latihan\n",
        "list = [89,12,57,16,25]\n",
        "SelectionSort(list)"
      ],
      "execution_count": 22,
      "outputs": [
        {
          "output_type": "execute_result",
          "data": {
            "text/plain": [
              "[12, 16, 25, 57, 89]"
            ]
          },
          "metadata": {},
          "execution_count": 22
        }
      ]
    },
    {
      "cell_type": "code",
      "metadata": {
        "id": "rnwmtMkWES7j"
      },
      "source": [
        "def LinearSearch(list, item):\n",
        "    index = 0\n",
        "    found = False\n",
        "\n",
        "#Match the value with each data element\n",
        "    while index < len(list) and found is False:\n",
        "        if list[index] == item:\n",
        "          found = True\n",
        "        else:\n",
        "          index = index + 1\n",
        "    return found"
      ],
      "execution_count": 25,
      "outputs": []
    },
    {
      "cell_type": "code",
      "metadata": {
        "colab": {
          "base_uri": "https://localhost:8080/"
        },
        "id": "MEvDRMtDEXjQ",
        "outputId": "5293342f-e914-4e12-e9b7-23ecd38bb9c6"
      },
      "source": [
        "list = [12, 33, 11, 99, 22, 55, 90]\n",
        "print(LinearSearch(list, 12))\n",
        "print(LinearSearch(list, 91))"
      ],
      "execution_count": 26,
      "outputs": [
        {
          "output_type": "stream",
          "name": "stdout",
          "text": [
            "True\n",
            "False\n"
          ]
        }
      ]
    },
    {
      "cell_type": "code",
      "metadata": {
        "colab": {
          "base_uri": "https://localhost:8080/"
        },
        "id": "FIez3lMpEbRl",
        "outputId": "8a8e24e7-c1c6-4e21-8ee3-a6860ef12fa0"
      },
      "source": [
        "#Latihan\n",
        "list = ['y', 'u', 'i', 'w', 'o', 'a', 'q', 'u', 'j', 'p']\n",
        "print(LinearSearch(list, 'a'))\n"
      ],
      "execution_count": 27,
      "outputs": [
        {
          "output_type": "stream",
          "name": "stdout",
          "text": [
            "True\n"
          ]
        }
      ]
    },
    {
      "cell_type": "code",
      "metadata": {
        "id": "3OklC-LVDKXu"
      },
      "source": [
        "def BinarySearch(list, item):\n",
        "    first = 0\n",
        "    last = len(list)-1\n",
        "    found = False\n",
        "\n",
        "    while first<=last and not found:\n",
        "        midpoint = (first + last)//2\n",
        "        if list[midpoint] == item:\n",
        "            found = True\n",
        "        else:\n",
        "            if item < list[midpoint]:\n",
        "                last = midpoint-1\n",
        "            else:\n",
        "                first = midpoint+1\n",
        "    return found"
      ],
      "execution_count": 28,
      "outputs": []
    },
    {
      "cell_type": "code",
      "metadata": {
        "colab": {
          "base_uri": "https://localhost:8080/"
        },
        "id": "64A_PyWBDMNw",
        "outputId": "c2381e2e-3caa-45f9-8daf-8ccbd58b9bed"
      },
      "source": [
        "list = [12, 33, 11, 99, 22, 55, 90]\n",
        "sorted_list = BubbleSort(list)\n",
        "print(BinarySearch(list, 12))\n",
        "print(BinarySearch(list, 91))"
      ],
      "execution_count": 29,
      "outputs": [
        {
          "output_type": "stream",
          "name": "stdout",
          "text": [
            "True\n",
            "False\n"
          ]
        }
      ]
    },
    {
      "cell_type": "code",
      "metadata": {
        "colab": {
          "base_uri": "https://localhost:8080/"
        },
        "id": "ZRrnjeleDOWf",
        "outputId": "2c650053-9c1f-4c54-a582-9b0674d9f745"
      },
      "source": [
        "#Latihan\n",
        "list = ['y', 'u', 'i', 'w', 'o', 'a', 'q', 'u', 'j', 'p']\n",
        "sorted_list = BubbleSort(list)\n",
        "print(LinearSearch(list, 'a'))\n",
        "print(LinearSearch(list, 'i'))\n",
        "print(LinearSearch(list, 'u'))\n",
        "print(LinearSearch(list, 'e'))\n",
        "print(LinearSearch(list, 'o'))"
      ],
      "execution_count": 30,
      "outputs": [
        {
          "output_type": "stream",
          "name": "stdout",
          "text": [
            "True\n",
            "True\n",
            "True\n",
            "False\n",
            "True\n"
          ]
        }
      ]
    },
    {
      "cell_type": "code",
      "metadata": {
        "id": "vgxAcsRwDQUw"
      },
      "source": [
        "def IntPolsearch(list, x):\n",
        "    idx0 = 0\n",
        "    idxn = (len(list) -1)\n",
        "    found = False\n",
        "    while idx0 <= idxn and x >= list[idx0] and x <= list[idxn]:\n",
        "\n",
        "#find the mid point\n",
        "        mid = idx0 +int(((float(idxn - idx0)/(list[idxn] - list[idx0])) * ( x - list[idx0])))\n",
        "\n",
        "#Compare the value at mid point with search value\n",
        "        if list[mid] == x:\n",
        "            found = True\n",
        "            return found\n",
        "        \n",
        "        if list[mid] < x:\n",
        "            idx0 = mid + 1\n",
        "    return found"
      ],
      "execution_count": 31,
      "outputs": []
    },
    {
      "cell_type": "code",
      "metadata": {
        "colab": {
          "base_uri": "https://localhost:8080/"
        },
        "id": "Xu7QZUtPEiFP",
        "outputId": "254ccf2f-1ac4-4fc8-dc49-f1cc874aa28f"
      },
      "source": [
        "list = [12, 33, 11, 99, 22, 55, 90]\n",
        "sorted_list = BubbleSort(list)\n",
        "print(IntPolsearch(list, 12))\n",
        "print(IntPolsearch(list, 91))"
      ],
      "execution_count": 33,
      "outputs": [
        {
          "output_type": "stream",
          "name": "stdout",
          "text": [
            "True\n",
            "False\n"
          ]
        }
      ]
    },
    {
      "cell_type": "code",
      "metadata": {
        "colab": {
          "base_uri": "https://localhost:8080/"
        },
        "id": "uJazmm7xDUdn",
        "outputId": "4106ca46-619e-40e2-e69c-2508666e63fa"
      },
      "source": [
        "#Latihan\n",
        "list = [20, 200, 7, 10, 16]\n",
        "sorted_list = BubbleSort(list)\n",
        "print(IntPolsearch(list, 10))\n",
        "print(IntPolsearch(list, 17))"
      ],
      "execution_count": 34,
      "outputs": [
        {
          "output_type": "stream",
          "name": "stdout",
          "text": [
            "True\n",
            "False\n"
          ]
        }
      ]
    }
  ]
}